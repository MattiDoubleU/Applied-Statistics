{
 "cells": [
  {
   "cell_type": "markdown",
   "id": "6fa26a7b",
   "metadata": {},
   "source": [
    "# Assessment for Applied Statistics module\n",
    "\n",
    "**by Matthias Wiedemann**\n",
    "\n",
    "Student at [ATU](https://www.atu.ie/).\n",
    "\n",
    "<img src=\"https://studenthub.atu.ie/assets/ATU_Logo.fa93bf0a.svg\" alt=\"ATU Logo\" width=\"300\" height=\"100\">"
   ]
  }
 ],
 "metadata": {
  "language_info": {
   "name": "python"
  }
 },
 "nbformat": 4,
 "nbformat_minor": 5
}
