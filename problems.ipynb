{
 "cells": [
  {
   "cell_type": "markdown",
   "id": "6fa26a7b",
   "metadata": {},
   "source": [
    "# **Assessment for Applied Statistics module**\n",
    "\n",
    "**by Matthias Wiedemann**\n",
    "\n",
    "Student at [ATU](https://www.atu.ie/).\n",
    "\n",
    "<img src=\"https://studenthub.atu.ie/assets/ATU_Logo.fa93bf0a.svg\" alt=\"ATU Logo\" width=\"300\" height=\"100\">"
   ]
  },
  {
   "cell_type": "markdown",
   "id": "2fd9312d",
   "metadata": {},
   "source": [
    "The assessment instructions can be found [here]( https://github.com/ianmcloughlin/applied-statistics/blob/main/assessment/assessment.md)."
   ]
  },
  {
   "cell_type": "markdown",
   "id": "d5f89fa4",
   "metadata": {},
   "source": [
    "## Problem 1: Extending the Lady Tasting Tea"
   ]
  },
  {
   "cell_type": "markdown",
   "id": "28280c87",
   "metadata": {},
   "source": [
    "## Problem 2: Normal Distribution"
   ]
  },
  {
   "cell_type": "markdown",
   "id": "9fe9ce57",
   "metadata": {},
   "source": [
    "## Problem 3: t-Tests"
   ]
  },
  {
   "cell_type": "markdown",
   "id": "330b2be7",
   "metadata": {},
   "source": [
    "## Problem 4: ANOVA"
   ]
  },
  {
   "cell_type": "markdown",
   "id": "eaf0cdca",
   "metadata": {},
   "source": [
    "### End."
   ]
  }
 ],
 "metadata": {
  "language_info": {
   "name": "python"
  }
 },
 "nbformat": 4,
 "nbformat_minor": 5
}
