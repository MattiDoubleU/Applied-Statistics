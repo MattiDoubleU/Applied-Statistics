{
 "cells": [
  {
   "cell_type": "markdown",
   "id": "6fa26a7b",
   "metadata": {},
   "source": [
    "# Assessment for Applied Statistics module\n",
    "\n",
    "**by Matthias Wiedemann**\n",
    "\n",
    "Student at [ATU](https://www.atu.ie/).\n",
    "\n",
    "<img src=\"https://studenthub.atu.ie/assets/ATU_Logo.fa93bf0a.svg\" alt=\"ATU Logo\" width=\"300\" height=\"100\">"
   ]
  },
  {
   "cell_type": "markdown",
   "id": "2fd9312d",
   "metadata": {},
   "source": [
    "The assessment instructions can be found [here]( https://github.com/ianmcloughlin/applied-statistics/blob/main/assessment/assessment.md)."
   ]
  }
 ],
 "metadata": {
  "language_info": {
   "name": "python"
  }
 },
 "nbformat": 4,
 "nbformat_minor": 5
}
