{
 "cells": [
  {
   "cell_type": "markdown",
   "id": "6fa26a7b",
   "metadata": {},
   "source": [
    "# **Assessment for Applied Statistics module**\n",
    "\n",
    "**by Matthias Wiedemann**\n",
    "\n",
    "Student at [ATU](https://www.atu.ie/).\n",
    "\n",
    "<img src=\"https://studenthub.atu.ie/assets/ATU_Logo.fa93bf0a.svg\" alt=\"ATU Logo\" width=\"300\" height=\"100\">"
   ]
  },
  {
   "cell_type": "markdown",
   "id": "2fd9312d",
   "metadata": {},
   "source": [
    "The assessment instructions can be found [here]( https://github.com/ianmcloughlin/applied-statistics/blob/main/assessment/assessment.md)."
   ]
  },
  {
   "cell_type": "markdown",
   "id": "d5f89fa4",
   "metadata": {},
   "source": [
    "## Problem 1: Extending the Lady Tasting Tea\n",
    "\n",
    "In the original Fisher’s Lady Tasting Tea experiment there are 8 cups total: 4 tea-first and 4 milk-first. \n",
    "\n",
    "The lady claims she can distinguish them.\n",
    "\n",
    "What we have learned in the [lecture](https://github.com/ianmcloughlin/applied-statistics/blob/main/materials/lady-tasting-tea.ipynb) is that if she guesses all 8 correct, the probability (the p-value if she gets all 8 correct under the null hypothes is) of doing that by chance is:\n",
    "\n",
    "$$\n",
    "P = \\frac{1}{\\binom{8}{4}} = \\frac{1}{70} \\approx 0.0143\n",
    "$$\n",
    "\n",
    "For the extended experiment, 12 cups total, 8 tea-first and 4 milk-first we need to recalculate the Binomial Coefficient, (\"N choose K),\" and will use the same code as shown in the lecture:"
   ]
  },
  {
   "cell_type": "markdown",
   "id": "0441d88f",
   "metadata": {},
   "source": [
    "1. First of all we import the relevant libraries:"
   ]
  },
  {
   "cell_type": "code",
   "execution_count": 4,
   "id": "c0a65b89",
   "metadata": {},
   "outputs": [],
   "source": [
    "# Mathematical functions from the standard library.\n",
    "# https://docs.python.org/3/library/math.html\n",
    "import math\n",
    "\n",
    "# Permutations and combinations.\n",
    "# https://docs.python.org/3/library/itertools.html\n",
    "import itertools\n",
    "\n",
    "# Random selections.\n",
    "# https://docs.python.org/3/library/random.html\n",
    "import random\n",
    "\n",
    "# Numerical structures and operations.\n",
    "# https://numpy.org/doc/stable/reference/index.html#reference\n",
    "import numpy as np\n",
    "\n",
    "# Plotting.\n",
    "# https://matplotlib.org/stable/contents.html\n",
    "import matplotlib.pyplot as plt"
   ]
  },
  {
   "cell_type": "markdown",
   "id": "a2826ac2",
   "metadata": {},
   "source": [
    "2. Cups of tea"
   ]
  },
  {
   "cell_type": "code",
   "execution_count": 5,
   "id": "d9300fd0",
   "metadata": {},
   "outputs": [],
   "source": [
    "# Number of cups of tea in total.\n",
    "no_cups = 12\n",
    "\n",
    "# Number of cups of tea with milk in first.\n",
    "no_cups_milk_first = 4\n",
    "\n",
    "# Number of cups of tea with tea in first.\n",
    "no_cups_tea_first = 8\n",
    "\n"
   ]
  },
  {
   "cell_type": "markdown",
   "id": "af8a1201",
   "metadata": {},
   "source": [
    "3. We use math.comb(n, k) to calculate the number of ways to choose k elements from a set of n elements where the order of the chosen elements does not matter and no element is selected more than once:"
   ]
  },
  {
   "cell_type": "code",
   "execution_count": 6,
   "id": "9aa37789",
   "metadata": {},
   "outputs": [
    {
     "data": {
      "text/plain": [
       "495"
      ]
     },
     "execution_count": 6,
     "metadata": {},
     "output_type": "execute_result"
    }
   ],
   "source": [
    "# Number of ways of selecting four cups from eight.\n",
    "ways = math.comb(no_cups, no_cups_milk_first)\n",
    "\n",
    "# Show.\n",
    "ways"
   ]
  },
  {
   "cell_type": "markdown",
   "id": "c91fc823",
   "metadata": {},
   "source": [
    "The total number of unique ways to choose 4 items from 12 is 495."
   ]
  },
  {
   "cell_type": "markdown",
   "id": "ff8069db",
   "metadata": {},
   "source": [
    "Let's apply this value to the extended experiment, 12 cups total: 8 tea-first and 4 milk-first:\n",
    "\n",
    "$$\n",
    "P = \\frac{1}{\\binom{12}{4}} = \\frac{1}{495} \\approx 0.00202\n",
    "$$"
   ]
  },
  {
   "cell_type": "markdown",
   "id": "796f1c5c",
   "metadata": {},
   "source": [
    "https://www.statology.org/p-values-explained-in-plain-english-with-visuals/\n",
    "https://www.geeksforgeeks.org/machine-learning/p-value/"
   ]
  },
  {
   "cell_type": "markdown",
   "id": "28280c87",
   "metadata": {},
   "source": [
    "## Problem 2: Normal Distribution"
   ]
  },
  {
   "cell_type": "markdown",
   "id": "9fe9ce57",
   "metadata": {},
   "source": [
    "## Problem 3: t-Tests"
   ]
  },
  {
   "cell_type": "markdown",
   "id": "330b2be7",
   "metadata": {},
   "source": [
    "## Problem 4: ANOVA"
   ]
  },
  {
   "cell_type": "markdown",
   "id": "eaf0cdca",
   "metadata": {},
   "source": [
    "### End."
   ]
  }
 ],
 "metadata": {
  "kernelspec": {
   "display_name": "Python 3",
   "language": "python",
   "name": "python3"
  },
  "language_info": {
   "codemirror_mode": {
    "name": "ipython",
    "version": 3
   },
   "file_extension": ".py",
   "mimetype": "text/x-python",
   "name": "python",
   "nbconvert_exporter": "python",
   "pygments_lexer": "ipython3",
   "version": "3.12.1"
  }
 },
 "nbformat": 4,
 "nbformat_minor": 5
}
